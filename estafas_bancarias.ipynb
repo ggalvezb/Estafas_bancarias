{
  "nbformat": 4,
  "nbformat_minor": 0,
  "metadata": {
    "colab": {
      "name": "estafas_bancarias.ipynb",
      "provenance": []
    },
    "kernelspec": {
      "name": "python3",
      "display_name": "Python 3"
    }
  },
  "cells": [
    {
      "cell_type": "markdown",
      "metadata": {
        "id": "zpvhDZINPq4d",
        "colab_type": "text"
      },
      "source": [
        "#IMPORTAR LIBRERIAS"
      ]
    },
    {
      "cell_type": "code",
      "metadata": {
        "id": "I6AAukO6PMYY",
        "colab_type": "code",
        "colab": {}
      },
      "source": [
        "import numpy as np\n",
        "import matplotlib.pyplot as plt\n",
        "import seaborn as sns\n",
        "import tensorflow as tf"
      ],
      "execution_count": 37,
      "outputs": []
    },
    {
      "cell_type": "code",
      "metadata": {
        "id": "ivxKP_9NPfQL",
        "colab_type": "code",
        "colab": {}
      },
      "source": [
        "%matplotlib inline\n",
        "sns.set_style(\"whitegrid\")"
      ],
      "execution_count": 3,
      "outputs": []
    },
    {
      "cell_type": "markdown",
      "metadata": {
        "id": "4OxQzbBLP2de",
        "colab_type": "text"
      },
      "source": [
        "# LECTURA Y ANÁLISIS DE DATOS"
      ]
    },
    {
      "cell_type": "markdown",
      "metadata": {
        "id": "l8KGQ2cFP_ZG",
        "colab_type": "text"
      },
      "source": [
        "##Lectura de datos"
      ]
    },
    {
      "cell_type": "code",
      "metadata": {
        "id": "Y3aSWRIxP6eN",
        "colab_type": "code",
        "colab": {
          "base_uri": "https://localhost:8080/",
          "height": 314
        },
        "outputId": "89593d8b-e424-4b69-84b4-d9ab2bd95a20"
      },
      "source": [
        "data = pd.read_csv(\"creditcard.csv\")\n",
        "data.describe()"
      ],
      "execution_count": 7,
      "outputs": [
        {
          "output_type": "execute_result",
          "data": {
            "text/html": [
              "<div>\n",
              "<style scoped>\n",
              "    .dataframe tbody tr th:only-of-type {\n",
              "        vertical-align: middle;\n",
              "    }\n",
              "\n",
              "    .dataframe tbody tr th {\n",
              "        vertical-align: top;\n",
              "    }\n",
              "\n",
              "    .dataframe thead th {\n",
              "        text-align: right;\n",
              "    }\n",
              "</style>\n",
              "<table border=\"1\" class=\"dataframe\">\n",
              "  <thead>\n",
              "    <tr style=\"text-align: right;\">\n",
              "      <th></th>\n",
              "      <th>Time</th>\n",
              "      <th>V1</th>\n",
              "      <th>V2</th>\n",
              "      <th>V3</th>\n",
              "      <th>V4</th>\n",
              "      <th>V5</th>\n",
              "      <th>V6</th>\n",
              "      <th>V7</th>\n",
              "      <th>V8</th>\n",
              "      <th>V9</th>\n",
              "      <th>V10</th>\n",
              "      <th>V11</th>\n",
              "      <th>V12</th>\n",
              "      <th>V13</th>\n",
              "      <th>V14</th>\n",
              "      <th>V15</th>\n",
              "      <th>V16</th>\n",
              "      <th>V17</th>\n",
              "      <th>V18</th>\n",
              "      <th>V19</th>\n",
              "      <th>V20</th>\n",
              "      <th>V21</th>\n",
              "      <th>V22</th>\n",
              "      <th>V23</th>\n",
              "      <th>V24</th>\n",
              "      <th>V25</th>\n",
              "      <th>V26</th>\n",
              "      <th>V27</th>\n",
              "      <th>V28</th>\n",
              "      <th>Amount</th>\n",
              "      <th>Class</th>\n",
              "    </tr>\n",
              "  </thead>\n",
              "  <tbody>\n",
              "    <tr>\n",
              "      <th>count</th>\n",
              "      <td>77338.00</td>\n",
              "      <td>77338.00</td>\n",
              "      <td>77338.00</td>\n",
              "      <td>77338.00</td>\n",
              "      <td>77338.00</td>\n",
              "      <td>77338.00</td>\n",
              "      <td>77338.00</td>\n",
              "      <td>77338.00</td>\n",
              "      <td>77338.00</td>\n",
              "      <td>77338.00</td>\n",
              "      <td>77338.00</td>\n",
              "      <td>77338.00</td>\n",
              "      <td>77338.00</td>\n",
              "      <td>77338.00</td>\n",
              "      <td>77337.00</td>\n",
              "      <td>77337.00</td>\n",
              "      <td>77337.00</td>\n",
              "      <td>77337.00</td>\n",
              "      <td>77337.00</td>\n",
              "      <td>77337.00</td>\n",
              "      <td>77337.00</td>\n",
              "      <td>77337.00</td>\n",
              "      <td>77337.00</td>\n",
              "      <td>77337.00</td>\n",
              "      <td>77337.00</td>\n",
              "      <td>77337.00</td>\n",
              "      <td>77337.00</td>\n",
              "      <td>77337.00</td>\n",
              "      <td>77337.00</td>\n",
              "      <td>77337.00</td>\n",
              "      <td>77337.00</td>\n",
              "    </tr>\n",
              "    <tr>\n",
              "      <th>mean</th>\n",
              "      <td>36633.05</td>\n",
              "      <td>-0.25</td>\n",
              "      <td>-0.03</td>\n",
              "      <td>0.68</td>\n",
              "      <td>0.16</td>\n",
              "      <td>-0.28</td>\n",
              "      <td>0.10</td>\n",
              "      <td>-0.11</td>\n",
              "      <td>0.05</td>\n",
              "      <td>-0.00</td>\n",
              "      <td>-0.03</td>\n",
              "      <td>0.29</td>\n",
              "      <td>-0.15</td>\n",
              "      <td>0.05</td>\n",
              "      <td>0.09</td>\n",
              "      <td>0.17</td>\n",
              "      <td>-0.01</td>\n",
              "      <td>0.08</td>\n",
              "      <td>-0.10</td>\n",
              "      <td>-0.02</td>\n",
              "      <td>0.04</td>\n",
              "      <td>-0.03</td>\n",
              "      <td>-0.11</td>\n",
              "      <td>-0.04</td>\n",
              "      <td>0.01</td>\n",
              "      <td>0.13</td>\n",
              "      <td>0.03</td>\n",
              "      <td>0.00</td>\n",
              "      <td>0.00</td>\n",
              "      <td>97.62</td>\n",
              "      <td>0.00</td>\n",
              "    </tr>\n",
              "    <tr>\n",
              "      <th>std</th>\n",
              "      <td>14986.79</td>\n",
              "      <td>1.88</td>\n",
              "      <td>1.67</td>\n",
              "      <td>1.40</td>\n",
              "      <td>1.37</td>\n",
              "      <td>1.38</td>\n",
              "      <td>1.30</td>\n",
              "      <td>1.25</td>\n",
              "      <td>1.23</td>\n",
              "      <td>1.15</td>\n",
              "      <td>1.08</td>\n",
              "      <td>1.08</td>\n",
              "      <td>1.19</td>\n",
              "      <td>1.07</td>\n",
              "      <td>1.02</td>\n",
              "      <td>0.94</td>\n",
              "      <td>0.92</td>\n",
              "      <td>1.00</td>\n",
              "      <td>0.86</td>\n",
              "      <td>0.82</td>\n",
              "      <td>0.76</td>\n",
              "      <td>0.74</td>\n",
              "      <td>0.64</td>\n",
              "      <td>0.62</td>\n",
              "      <td>0.60</td>\n",
              "      <td>0.44</td>\n",
              "      <td>0.50</td>\n",
              "      <td>0.39</td>\n",
              "      <td>0.33</td>\n",
              "      <td>270.50</td>\n",
              "      <td>0.05</td>\n",
              "    </tr>\n",
              "    <tr>\n",
              "      <th>min</th>\n",
              "      <td>0.00</td>\n",
              "      <td>-56.41</td>\n",
              "      <td>-72.72</td>\n",
              "      <td>-33.68</td>\n",
              "      <td>-5.17</td>\n",
              "      <td>-42.15</td>\n",
              "      <td>-26.16</td>\n",
              "      <td>-31.76</td>\n",
              "      <td>-73.22</td>\n",
              "      <td>-9.28</td>\n",
              "      <td>-18.27</td>\n",
              "      <td>-4.05</td>\n",
              "      <td>-17.77</td>\n",
              "      <td>-5.79</td>\n",
              "      <td>-19.21</td>\n",
              "      <td>-4.15</td>\n",
              "      <td>-13.56</td>\n",
              "      <td>-25.16</td>\n",
              "      <td>-9.50</td>\n",
              "      <td>-7.21</td>\n",
              "      <td>-19.90</td>\n",
              "      <td>-34.83</td>\n",
              "      <td>-10.93</td>\n",
              "      <td>-26.75</td>\n",
              "      <td>-2.84</td>\n",
              "      <td>-7.50</td>\n",
              "      <td>-2.53</td>\n",
              "      <td>-9.39</td>\n",
              "      <td>-9.62</td>\n",
              "      <td>0.00</td>\n",
              "      <td>0.00</td>\n",
              "    </tr>\n",
              "    <tr>\n",
              "      <th>25%</th>\n",
              "      <td>30195.25</td>\n",
              "      <td>-1.02</td>\n",
              "      <td>-0.60</td>\n",
              "      <td>0.19</td>\n",
              "      <td>-0.73</td>\n",
              "      <td>-0.89</td>\n",
              "      <td>-0.64</td>\n",
              "      <td>-0.60</td>\n",
              "      <td>-0.14</td>\n",
              "      <td>-0.68</td>\n",
              "      <td>-0.51</td>\n",
              "      <td>-0.50</td>\n",
              "      <td>-0.59</td>\n",
              "      <td>-0.65</td>\n",
              "      <td>-0.32</td>\n",
              "      <td>-0.39</td>\n",
              "      <td>-0.49</td>\n",
              "      <td>-0.39</td>\n",
              "      <td>-0.57</td>\n",
              "      <td>-0.52</td>\n",
              "      <td>-0.17</td>\n",
              "      <td>-0.22</td>\n",
              "      <td>-0.52</td>\n",
              "      <td>-0.18</td>\n",
              "      <td>-0.32</td>\n",
              "      <td>-0.13</td>\n",
              "      <td>-0.33</td>\n",
              "      <td>-0.06</td>\n",
              "      <td>-0.01</td>\n",
              "      <td>7.68</td>\n",
              "      <td>0.00</td>\n",
              "    </tr>\n",
              "    <tr>\n",
              "      <th>50%</th>\n",
              "      <td>39488.00</td>\n",
              "      <td>-0.25</td>\n",
              "      <td>0.07</td>\n",
              "      <td>0.77</td>\n",
              "      <td>0.18</td>\n",
              "      <td>-0.31</td>\n",
              "      <td>-0.15</td>\n",
              "      <td>-0.07</td>\n",
              "      <td>0.07</td>\n",
              "      <td>-0.08</td>\n",
              "      <td>-0.10</td>\n",
              "      <td>0.23</td>\n",
              "      <td>0.07</td>\n",
              "      <td>0.02</td>\n",
              "      <td>0.10</td>\n",
              "      <td>0.27</td>\n",
              "      <td>0.06</td>\n",
              "      <td>0.02</td>\n",
              "      <td>-0.09</td>\n",
              "      <td>-0.03</td>\n",
              "      <td>-0.02</td>\n",
              "      <td>-0.06</td>\n",
              "      <td>-0.08</td>\n",
              "      <td>-0.05</td>\n",
              "      <td>0.06</td>\n",
              "      <td>0.17</td>\n",
              "      <td>-0.07</td>\n",
              "      <td>0.01</td>\n",
              "      <td>0.02</td>\n",
              "      <td>26.75</td>\n",
              "      <td>0.00</td>\n",
              "    </tr>\n",
              "    <tr>\n",
              "      <th>75%</th>\n",
              "      <td>48186.00</td>\n",
              "      <td>1.15</td>\n",
              "      <td>0.72</td>\n",
              "      <td>1.40</td>\n",
              "      <td>1.05</td>\n",
              "      <td>0.26</td>\n",
              "      <td>0.49</td>\n",
              "      <td>0.42</td>\n",
              "      <td>0.35</td>\n",
              "      <td>0.63</td>\n",
              "      <td>0.44</td>\n",
              "      <td>1.10</td>\n",
              "      <td>0.60</td>\n",
              "      <td>0.74</td>\n",
              "      <td>0.53</td>\n",
              "      <td>0.84</td>\n",
              "      <td>0.55</td>\n",
              "      <td>0.49</td>\n",
              "      <td>0.40</td>\n",
              "      <td>0.48</td>\n",
              "      <td>0.17</td>\n",
              "      <td>0.12</td>\n",
              "      <td>0.31</td>\n",
              "      <td>0.08</td>\n",
              "      <td>0.40</td>\n",
              "      <td>0.42</td>\n",
              "      <td>0.31</td>\n",
              "      <td>0.08</td>\n",
              "      <td>0.08</td>\n",
              "      <td>89.00</td>\n",
              "      <td>0.00</td>\n",
              "    </tr>\n",
              "    <tr>\n",
              "      <th>max</th>\n",
              "      <td>57006.00</td>\n",
              "      <td>1.96</td>\n",
              "      <td>18.90</td>\n",
              "      <td>4.23</td>\n",
              "      <td>16.72</td>\n",
              "      <td>34.80</td>\n",
              "      <td>22.53</td>\n",
              "      <td>36.68</td>\n",
              "      <td>20.01</td>\n",
              "      <td>10.39</td>\n",
              "      <td>13.20</td>\n",
              "      <td>12.02</td>\n",
              "      <td>7.85</td>\n",
              "      <td>4.47</td>\n",
              "      <td>10.53</td>\n",
              "      <td>5.78</td>\n",
              "      <td>6.10</td>\n",
              "      <td>9.25</td>\n",
              "      <td>5.04</td>\n",
              "      <td>5.23</td>\n",
              "      <td>39.42</td>\n",
              "      <td>22.61</td>\n",
              "      <td>10.50</td>\n",
              "      <td>17.30</td>\n",
              "      <td>4.01</td>\n",
              "      <td>5.53</td>\n",
              "      <td>3.52</td>\n",
              "      <td>12.15</td>\n",
              "      <td>33.85</td>\n",
              "      <td>19656.53</td>\n",
              "      <td>1.00</td>\n",
              "    </tr>\n",
              "  </tbody>\n",
              "</table>\n",
              "</div>"
            ],
            "text/plain": [
              "          Time       V1       V2       V3  ...      V27      V28   Amount    Class\n",
              "count 77338.00 77338.00 77338.00 77338.00  ... 77337.00 77337.00 77337.00 77337.00\n",
              "mean  36633.05    -0.25    -0.03     0.68  ...     0.00     0.00    97.62     0.00\n",
              "std   14986.79     1.88     1.67     1.40  ...     0.39     0.33   270.50     0.05\n",
              "min       0.00   -56.41   -72.72   -33.68  ...    -9.39    -9.62     0.00     0.00\n",
              "25%   30195.25    -1.02    -0.60     0.19  ...    -0.06    -0.01     7.68     0.00\n",
              "50%   39488.00    -0.25     0.07     0.77  ...     0.01     0.02    26.75     0.00\n",
              "75%   48186.00     1.15     0.72     1.40  ...     0.08     0.08    89.00     0.00\n",
              "max   57006.00     1.96    18.90     4.23  ...    12.15    33.85 19656.53     1.00\n",
              "\n",
              "[8 rows x 31 columns]"
            ]
          },
          "metadata": {
            "tags": []
          },
          "execution_count": 7
        }
      ]
    },
    {
      "cell_type": "markdown",
      "metadata": {
        "id": "YCDt_elTQ0Qh",
        "colab_type": "text"
      },
      "source": [
        "##Analisis de datos"
      ]
    },
    {
      "cell_type": "code",
      "metadata": {
        "id": "upQMXcSyQO0p",
        "colab_type": "code",
        "colab": {
          "base_uri": "https://localhost:8080/",
          "height": 295
        },
        "outputId": "d5a60c0c-6390-402e-83f2-00d4744bff49"
      },
      "source": [
        "LABELS = [\"Normal\", \"Fraud\"]\n",
        "\n",
        "count_classes = pd.value_counts(data['Class'], sort = True)\n",
        "count_classes.plot(kind = 'bar', rot=0)\n",
        "plt.title(\"Transaction Class Distribution\")\n",
        "plt.xticks(range(2), LABELS)\n",
        "plt.xlabel(\"Class\")\n",
        "plt.ylabel(\"Frequency\");\n",
        "\n",
        "data.Class.value_counts()\n",
        "\n",
        "fraud = data[data['Class']==1]\n",
        "normal = data[data['Class']==0]\n",
        "\n"
      ],
      "execution_count": 8,
      "outputs": [
        {
          "output_type": "display_data",
          "data": {
            "image/png": "[encoded data removed]",
            "text/plain": [
              "<Figure size 432x288 with 1 Axes>"
            ]
          },
          "metadata": {
            "tags": []
          }
        }
      ]
    },
    {
      "cell_type": "code",
      "metadata": {
        "id": "8m-W0XTAQQtI",
        "colab_type": "code",
        "colab": {
          "base_uri": "https://localhost:8080/",
          "height": 276
        },
        "outputId": "65d6c2aa-83e3-43dc-f95a-79da2db07e75"
      },
      "source": [
        "#Veo que tan diferente son los montos de las estafas v/s las normales\n",
        "pd.concat([fraud.Amount.describe(), normal.Amount.describe()], axis=1)\n",
        "\n",
        "#Reviso si ocurre en algun periodo de tiempo mas usual\n",
        "pd.concat([fraud.Time.describe(), normal.Time.describe()], axis=1)\n",
        "\n",
        "# grafico el tiempo\n",
        "plt.figure(figsize=(10,8))\n",
        "plt.subplot(2, 2, 1)\n",
        "plt.title('Distribucion del tiempo (Segundos)')\n",
        "sns.distplot(data['Time'], color='blue');\n",
        "\n",
        "#grafico los montos\n",
        "plt.subplot(2, 2, 2)\n",
        "plt.title('Distribucion de Monto de dinero')\n",
        "sns.distplot(data['Amount'],color='blue');"
      ],
      "execution_count": 9,
      "outputs": [
        {
          "output_type": "display_data",
          "data": {
            "image/png": "[encoded data removed]",
            "text/plain": [
              "<Figure size 720x576 with 2 Axes>"
            ]
          },
          "metadata": {
            "tags": []
          }
        }
      ]
    },
    {
      "cell_type": "code",
      "metadata": {
        "id": "1iQLkc1GQl24",
        "colab_type": "code",
        "colab": {
          "base_uri": "https://localhost:8080/",
          "height": 313
        },
        "outputId": "47b87a06-b253-438e-d056-afac138f3787"
      },
      "source": [
        "#Grafio los tiempos de los dos tipos de transacciones \n",
        "plt.figure(figsize=(12, 10))\n",
        "\n",
        "plt.subplot(2, 2, 1)\n",
        "data[data.Class == 1].Time.hist(bins=35, color='blue', alpha=0.6, label=\"Fraudes\")\n",
        "plt.legend()\n",
        "\n",
        "plt.subplot(2, 2, 2)\n",
        "data[data.Class == 0].Time.hist(bins=35, color='blue', alpha=0.6, label=\"Normales\")\n",
        "plt.legend()\n"
      ],
      "execution_count": 10,
      "outputs": [
        {
          "output_type": "execute_result",
          "data": {
            "text/plain": [
              "<matplotlib.legend.Legend at 0x7fe146e877b8>"
            ]
          },
          "metadata": {
            "tags": []
          },
          "execution_count": 10
        },
        {
          "output_type": "display_data",
          "data": {
            "image/png": "[encoded data removed]",
            "text/plain": [
              "<Figure size 864x720 with 2 Axes>"
            ]
          },
          "metadata": {
            "tags": []
          }
        }
      ]
    },
    {
      "cell_type": "code",
      "metadata": {
        "id": "hmA7wLz9QpWM",
        "colab_type": "code",
        "colab": {
          "base_uri": "https://localhost:8080/",
          "height": 625
        },
        "outputId": "4c364d98-d5bf-410c-f8fd-b81dccf846c4"
      },
      "source": [
        "# Saco mapa de correlaciones de variables\n",
        "plt.figure(figsize=(10,10))\n",
        "sns.heatmap(data=data.corr(), cmap=\"seismic\")\n",
        "plt.show()"
      ],
      "execution_count": 11,
      "outputs": [
        {
          "output_type": "display_data",
          "data": {
            "image/png": "[encoded data removed]",
            "text/plain": [
              "<Figure size 720x720 with 2 Axes>"
            ]
          },
          "metadata": {
            "tags": []
          }
        }
      ]
    },
    {
      "cell_type": "markdown",
      "metadata": {
        "id": "5ySl985-Q4uo",
        "colab_type": "text"
      },
      "source": [
        "#CREO DATASETS Y SCALO DATOS"
      ]
    },
    {
      "cell_type": "code",
      "metadata": {
        "id": "2vWyBmsxRNWi",
        "colab_type": "code",
        "colab": {}
      },
      "source": [
        "X = data.iloc[:-1, 1:-1].values\n",
        "y = data.iloc[:-1, -1].values\n"
      ],
      "execution_count": 26,
      "outputs": []
    },
    {
      "cell_type": "code",
      "metadata": {
        "id": "LGbzgAaEShfk",
        "colab_type": "code",
        "colab": {}
      },
      "source": [
        "from sklearn.model_selection import train_test_split\n",
        "X_train, X_test, y_train, y_test = train_test_split(X, y, test_size = 0.2, random_state = 0)"
      ],
      "execution_count": 29,
      "outputs": []
    },
    {
      "cell_type": "code",
      "metadata": {
        "id": "QOcKlIsJSyUl",
        "colab_type": "code",
        "colab": {}
      },
      "source": [
        "from sklearn.preprocessing import StandardScaler\n",
        "sc = StandardScaler()\n",
        "X_train = sc.fit_transform(X_train)\n",
        "X_test = sc.transform(X_test)"
      ],
      "execution_count": 31,
      "outputs": []
    },
    {
      "cell_type": "code",
      "metadata": {
        "id": "bLF2T6ODTFW3",
        "colab_type": "code",
        "colab": {
          "base_uri": "https://localhost:8080/",
          "height": 243
        },
        "outputId": "5beb1421-33d8-4e04-85a2-c699c0ede79b"
      },
      "source": [
        "X_train"
      ],
      "execution_count": 35,
      "outputs": [
        {
          "output_type": "execute_result",
          "data": {
            "text/plain": [
              "array([[ 0.80753353,  0.26928852, -0.25803174, ..., -0.04793222,\n",
              "         0.09176508, -0.3521985 ],\n",
              "       [ 0.72947116, -0.09189735,  0.05001382, ...,  0.1218717 ,\n",
              "         0.06210661, -0.13612191],\n",
              "       [-0.2379527 , -0.737537  ,  0.74378621, ...,  0.1153023 ,\n",
              "         0.0735007 , -0.21429271],\n",
              "       ...,\n",
              "       [-0.35685076, -0.51141148,  1.21731234, ..., -0.17983108,\n",
              "         0.13010963,  0.85161015],\n",
              "       [ 0.63786695, -0.06720009, -0.19549409, ...,  0.04054844,\n",
              "         0.05964747, -0.01247848],\n",
              "       [ 0.98531363, -0.48982064, -0.80355502, ..., -0.02737131,\n",
              "        -0.04993425, -0.35684375]])"
            ]
          },
          "metadata": {
            "tags": []
          },
          "execution_count": 35
        }
      ]
    },
    {
      "cell_type": "markdown",
      "metadata": {
        "id": "aMCpM5qcTNBE",
        "colab_type": "text"
      },
      "source": [
        "#CONSTRUYO ANN"
      ]
    },
    {
      "cell_type": "code",
      "metadata": {
        "id": "XWjacgWkTLxQ",
        "colab_type": "code",
        "colab": {}
      },
      "source": [
        "#Inicializo\n",
        "ann = tf.keras.models.Sequential()\n",
        "\n",
        "#Agrego capa 1 y 2\n",
        "ann.add(tf.keras.layers.Dense(units=6, activation='relu'))\n",
        "ann.add(tf.keras.layers.Dense(units=6, activation='relu'))\n",
        "\n",
        "#Agrego capa de salida\n",
        "ann.add(tf.keras.layers.Dense(units=1, activation='sigmoid'))"
      ],
      "execution_count": 38,
      "outputs": []
    },
    {
      "cell_type": "markdown",
      "metadata": {
        "id": "5xz5KUKKT2oz",
        "colab_type": "text"
      },
      "source": [
        "#ENTRENO LA ANN"
      ]
    },
    {
      "cell_type": "code",
      "metadata": {
        "id": "9gOVtWeXTlq_",
        "colab_type": "code",
        "colab": {
          "base_uri": "https://localhost:8080/",
          "height": 1000
        },
        "outputId": "b09daec7-878e-41c3-cf0c-f5cc8da7ad59"
      },
      "source": [
        "#Compilo la ANN\n",
        "ann.compile(optimizer = 'adam', loss = 'binary_crossentropy', metrics = ['accuracy'])\n",
        "\n",
        "#Entreno la ANN con el dataset de training\n",
        "ann.fit(X_train, y_train, batch_size = 32, epochs = 100)"
      ],
      "execution_count": 39,
      "outputs": [
        {
          "output_type": "stream",
          "text": [
            "Epoch 1/100\n",
            "1934/1934 [==============================] - 2s 1ms/step - loss: 0.0368 - accuracy: 0.9975\n",
            "Epoch 2/100\n",
            "1934/1934 [==============================] - 2s 1ms/step - loss: 0.0058 - accuracy: 0.9975\n",
            "Epoch 3/100\n",
            "1934/1934 [==============================] - 2s 1ms/step - loss: 0.0046 - accuracy: 0.9977\n",
            "Epoch 4/100\n",
            "1934/1934 [==============================] - 2s 1ms/step - loss: 0.0040 - accuracy: 0.9991\n",
            "Epoch 5/100\n",
            "1934/1934 [==============================] - 2s 1ms/step - loss: 0.0037 - accuracy: 0.9991\n",
            "Epoch 6/100\n",
            "1934/1934 [==============================] - 2s 1ms/step - loss: 0.0034 - accuracy: 0.9991\n",
            "Epoch 7/100\n",
            "1934/1934 [==============================] - 2s 1ms/step - loss: 0.0033 - accuracy: 0.9991\n",
            "Epoch 8/100\n",
            "1934/1934 [==============================] - 2s 1ms/step - loss: 0.0031 - accuracy: 0.9991\n",
            "Epoch 9/100\n",
            "1934/1934 [==============================] - 2s 1ms/step - loss: 0.0030 - accuracy: 0.9992\n",
            "Epoch 10/100\n",
            "1934/1934 [==============================] - 2s 1ms/step - loss: 0.0029 - accuracy: 0.9991\n",
            "Epoch 11/100\n",
            "1934/1934 [==============================] - 2s 1ms/step - loss: 0.0028 - accuracy: 0.9991\n",
            "Epoch 12/100\n",
            "1934/1934 [==============================] - 2s 1ms/step - loss: 0.0029 - accuracy: 0.9991\n",
            "Epoch 13/100\n",
            "1934/1934 [==============================] - 2s 1ms/step - loss: 0.0027 - accuracy: 0.9992\n",
            "Epoch 14/100\n",
            "1934/1934 [==============================] - 2s 1ms/step - loss: 0.0027 - accuracy: 0.9992\n",
            "Epoch 15/100\n",
            "1934/1934 [==============================] - 2s 1ms/step - loss: 0.0026 - accuracy: 0.9993\n",
            "Epoch 16/100\n",
            "1934/1934 [==============================] - 2s 1ms/step - loss: 0.0025 - accuracy: 0.9992\n",
            "Epoch 17/100\n",
            "1934/1934 [==============================] - 2s 1ms/step - loss: 0.0025 - accuracy: 0.9993\n",
            "Epoch 18/100\n",
            "1934/1934 [==============================] - 2s 1ms/step - loss: 0.0025 - accuracy: 0.9992\n",
            "Epoch 19/100\n",
            "1934/1934 [==============================] - 2s 1ms/step - loss: 0.0025 - accuracy: 0.9992\n",
            "Epoch 20/100\n",
            "1934/1934 [==============================] - 2s 1ms/step - loss: 0.0024 - accuracy: 0.9993\n",
            "Epoch 21/100\n",
            "1934/1934 [==============================] - 2s 1ms/step - loss: 0.0025 - accuracy: 0.9992\n",
            "Epoch 22/100\n",
            "1934/1934 [==============================] - 2s 1ms/step - loss: 0.0024 - accuracy: 0.9993\n",
            "Epoch 23/100\n",
            "1934/1934 [==============================] - 2s 1ms/step - loss: 0.0023 - accuracy: 0.9992\n",
            "Epoch 24/100\n",
            "1934/1934 [==============================] - 2s 1ms/step - loss: 0.0023 - accuracy: 0.9993\n",
            "Epoch 25/100\n",
            "1934/1934 [==============================] - 2s 1ms/step - loss: 0.0023 - accuracy: 0.9993\n",
            "Epoch 26/100\n",
            "1934/1934 [==============================] - 2s 1ms/step - loss: 0.0023 - accuracy: 0.9992\n",
            "Epoch 27/100\n",
            "1934/1934 [==============================] - 2s 1ms/step - loss: 0.0023 - accuracy: 0.9993\n",
            "Epoch 28/100\n",
            "1934/1934 [==============================] - 2s 1ms/step - loss: 0.0022 - accuracy: 0.9993\n",
            "Epoch 29/100\n",
            "1934/1934 [==============================] - 2s 1ms/step - loss: 0.0023 - accuracy: 0.9992\n",
            "Epoch 30/100\n",
            "1934/1934 [==============================] - 2s 1ms/step - loss: 0.0022 - accuracy: 0.9993\n",
            "Epoch 31/100\n",
            "1934/1934 [==============================] - 2s 1ms/step - loss: 0.0023 - accuracy: 0.9993\n",
            "Epoch 32/100\n",
            "1934/1934 [==============================] - 2s 1ms/step - loss: 0.0021 - accuracy: 0.9993\n",
            "Epoch 33/100\n",
            "1934/1934 [==============================] - 2s 1ms/step - loss: 0.0022 - accuracy: 0.9993\n",
            "Epoch 34/100\n",
            "1934/1934 [==============================] - 2s 1ms/step - loss: 0.0022 - accuracy: 0.9993\n",
            "Epoch 35/100\n",
            "1934/1934 [==============================] - 2s 1ms/step - loss: 0.0021 - accuracy: 0.9993\n",
            "Epoch 36/100\n",
            "1934/1934 [==============================] - 2s 1ms/step - loss: 0.0021 - accuracy: 0.9993\n",
            "Epoch 37/100\n",
            "1934/1934 [==============================] - 2s 1ms/step - loss: 0.0021 - accuracy: 0.9993\n",
            "Epoch 38/100\n",
            "1934/1934 [==============================] - 2s 1ms/step - loss: 0.0021 - accuracy: 0.9994\n",
            "Epoch 39/100\n",
            "1934/1934 [==============================] - 2s 1ms/step - loss: 0.0020 - accuracy: 0.9993\n",
            "Epoch 40/100\n",
            "1934/1934 [==============================] - 2s 1ms/step - loss: 0.0020 - accuracy: 0.9994\n",
            "Epoch 41/100\n",
            "1934/1934 [==============================] - 2s 1ms/step - loss: 0.0020 - accuracy: 0.9994\n",
            "Epoch 42/100\n",
            "1934/1934 [==============================] - 2s 1ms/step - loss: 0.0020 - accuracy: 0.9994\n",
            "Epoch 43/100\n",
            "1934/1934 [==============================] - 2s 1ms/step - loss: 0.0019 - accuracy: 0.9993\n",
            "Epoch 44/100\n",
            "1934/1934 [==============================] - 2s 1ms/step - loss: 0.0019 - accuracy: 0.9994\n",
            "Epoch 45/100\n",
            "1934/1934 [==============================] - 2s 1ms/step - loss: 0.0020 - accuracy: 0.9993\n",
            "Epoch 46/100\n",
            "1934/1934 [==============================] - 2s 1ms/step - loss: 0.0019 - accuracy: 0.9995\n",
            "Epoch 47/100\n",
            "1934/1934 [==============================] - 2s 1ms/step - loss: 0.0018 - accuracy: 0.9994\n",
            "Epoch 48/100\n",
            "1934/1934 [==============================] - 2s 1ms/step - loss: 0.0019 - accuracy: 0.9994\n",
            "Epoch 49/100\n",
            "1934/1934 [==============================] - 2s 1ms/step - loss: 0.0018 - accuracy: 0.9994\n",
            "Epoch 50/100\n",
            "1934/1934 [==============================] - 2s 1ms/step - loss: 0.0018 - accuracy: 0.9995\n",
            "Epoch 51/100\n",
            "1934/1934 [==============================] - 2s 1ms/step - loss: 0.0019 - accuracy: 0.9994\n",
            "Epoch 52/100\n",
            "1934/1934 [==============================] - 2s 1ms/step - loss: 0.0018 - accuracy: 0.9994\n",
            "Epoch 53/100\n",
            "1934/1934 [==============================] - 2s 1ms/step - loss: 0.0017 - accuracy: 0.9995\n",
            "Epoch 54/100\n",
            "1934/1934 [==============================] - 2s 1ms/step - loss: 0.0018 - accuracy: 0.9994\n",
            "Epoch 55/100\n",
            "1934/1934 [==============================] - 2s 1ms/step - loss: 0.0018 - accuracy: 0.9994\n",
            "Epoch 56/100\n",
            "1934/1934 [==============================] - 2s 1ms/step - loss: 0.0018 - accuracy: 0.9994\n",
            "Epoch 57/100\n",
            "1934/1934 [==============================] - 2s 1ms/step - loss: 0.0017 - accuracy: 0.9995\n",
            "Epoch 58/100\n",
            "1934/1934 [==============================] - 2s 1ms/step - loss: 0.0018 - accuracy: 0.9995\n",
            "Epoch 59/100\n",
            "1934/1934 [==============================] - 2s 1ms/step - loss: 0.0017 - accuracy: 0.9995\n",
            "Epoch 60/100\n",
            "1934/1934 [==============================] - 2s 1ms/step - loss: 0.0017 - accuracy: 0.9995\n",
            "Epoch 61/100\n",
            "1934/1934 [==============================] - 2s 1ms/step - loss: 0.0017 - accuracy: 0.9995\n",
            "Epoch 62/100\n",
            "1934/1934 [==============================] - 2s 1ms/step - loss: 0.0018 - accuracy: 0.9994\n",
            "Epoch 63/100\n",
            "1934/1934 [==============================] - 2s 1ms/step - loss: 0.0017 - accuracy: 0.9994\n",
            "Epoch 64/100\n",
            "1934/1934 [==============================] - 2s 1ms/step - loss: 0.0016 - accuracy: 0.9995\n",
            "Epoch 65/100\n",
            "1934/1934 [==============================] - 2s 1ms/step - loss: 0.0017 - accuracy: 0.9994\n",
            "Epoch 66/100\n",
            "1934/1934 [==============================] - 2s 1ms/step - loss: 0.0016 - accuracy: 0.9994\n",
            "Epoch 67/100\n",
            "1934/1934 [==============================] - 2s 1ms/step - loss: 0.0016 - accuracy: 0.9995\n",
            "Epoch 68/100\n",
            "1934/1934 [==============================] - 2s 1ms/step - loss: 0.0016 - accuracy: 0.9995\n",
            "Epoch 69/100\n",
            "1934/1934 [==============================] - 2s 1ms/step - loss: 0.0016 - accuracy: 0.9995\n",
            "Epoch 70/100\n",
            "1934/1934 [==============================] - 2s 1ms/step - loss: 0.0016 - accuracy: 0.9995\n",
            "Epoch 71/100\n",
            "1934/1934 [==============================] - 2s 1ms/step - loss: 0.0016 - accuracy: 0.9995\n",
            "Epoch 72/100\n",
            "1934/1934 [==============================] - 2s 1ms/step - loss: 0.0017 - accuracy: 0.9994\n",
            "Epoch 73/100\n",
            "1934/1934 [==============================] - 2s 1ms/step - loss: 0.0018 - accuracy: 0.9994\n",
            "Epoch 74/100\n",
            "1934/1934 [==============================] - 2s 1ms/step - loss: 0.0016 - accuracy: 0.9994\n",
            "Epoch 75/100\n",
            "1934/1934 [==============================] - 2s 1ms/step - loss: 0.0016 - accuracy: 0.9994\n",
            "Epoch 76/100\n",
            "1934/1934 [==============================] - 2s 1ms/step - loss: 0.0019 - accuracy: 0.9994\n",
            "Epoch 77/100\n",
            "1934/1934 [==============================] - 2s 1ms/step - loss: 0.0016 - accuracy: 0.9995\n",
            "Epoch 78/100\n",
            "1934/1934 [==============================] - 2s 1ms/step - loss: 0.0016 - accuracy: 0.9995\n",
            "Epoch 79/100\n",
            "1934/1934 [==============================] - 2s 1ms/step - loss: 0.0016 - accuracy: 0.9995\n",
            "Epoch 80/100\n",
            "1934/1934 [==============================] - 2s 1ms/step - loss: 0.0016 - accuracy: 0.9995\n",
            "Epoch 81/100\n",
            "1934/1934 [==============================] - 2s 1ms/step - loss: 0.0015 - accuracy: 0.9995\n",
            "Epoch 82/100\n",
            "1934/1934 [==============================] - 2s 1ms/step - loss: 0.0017 - accuracy: 0.9995\n",
            "Epoch 83/100\n",
            "1934/1934 [==============================] - 2s 1ms/step - loss: 0.0015 - accuracy: 0.9995\n",
            "Epoch 84/100\n",
            "1934/1934 [==============================] - 2s 1ms/step - loss: 0.0015 - accuracy: 0.9995\n",
            "Epoch 85/100\n",
            "1934/1934 [==============================] - 2s 1ms/step - loss: 0.0016 - accuracy: 0.9995\n",
            "Epoch 86/100\n",
            "1934/1934 [==============================] - 2s 1ms/step - loss: 0.0015 - accuracy: 0.9994\n",
            "Epoch 87/100\n",
            "1934/1934 [==============================] - 2s 1ms/step - loss: 0.0016 - accuracy: 0.9994\n",
            "Epoch 88/100\n",
            "1934/1934 [==============================] - 2s 1ms/step - loss: 0.0016 - accuracy: 0.9994\n",
            "Epoch 89/100\n",
            "1934/1934 [==============================] - 2s 1ms/step - loss: 0.0015 - accuracy: 0.9995\n",
            "Epoch 90/100\n",
            "1934/1934 [==============================] - 2s 1ms/step - loss: 0.0017 - accuracy: 0.9995\n",
            "Epoch 91/100\n",
            "1934/1934 [==============================] - 2s 1ms/step - loss: 0.0015 - accuracy: 0.9995\n",
            "Epoch 92/100\n",
            "1934/1934 [==============================] - 2s 1ms/step - loss: 0.0015 - accuracy: 0.9995\n",
            "Epoch 93/100\n",
            "1934/1934 [==============================] - 2s 1ms/step - loss: 0.0015 - accuracy: 0.9994\n",
            "Epoch 94/100\n",
            "1934/1934 [==============================] - 2s 1ms/step - loss: 0.0016 - accuracy: 0.9994\n",
            "Epoch 95/100\n",
            "1934/1934 [==============================] - 2s 1ms/step - loss: 0.0015 - accuracy: 0.9995\n",
            "Epoch 96/100\n",
            "1934/1934 [==============================] - 2s 1ms/step - loss: 0.0015 - accuracy: 0.9995\n",
            "Epoch 97/100\n",
            "1934/1934 [==============================] - 2s 1ms/step - loss: 0.0016 - accuracy: 0.9994\n",
            "Epoch 98/100\n",
            "1934/1934 [==============================] - 2s 1ms/step - loss: 0.0015 - accuracy: 0.9995\n",
            "Epoch 99/100\n",
            "1934/1934 [==============================] - 2s 1ms/step - loss: 0.0016 - accuracy: 0.9995\n",
            "Epoch 100/100\n",
            "1934/1934 [==============================] - 2s 1ms/step - loss: 0.0015 - accuracy: 0.9995\n"
          ],
          "name": "stdout"
        },
        {
          "output_type": "execute_result",
          "data": {
            "text/plain": [
              "<tensorflow.python.keras.callbacks.History at 0x7fe10b64f668>"
            ]
          },
          "metadata": {
            "tags": []
          },
          "execution_count": 39
        }
      ]
    },
    {
      "cell_type": "code",
      "metadata": {
        "id": "5mJ-oQXSVGnx",
        "colab_type": "code",
        "colab": {
          "base_uri": "https://localhost:8080/",
          "height": 139
        },
        "outputId": "4aa99769-9dee-48eb-8c29-9c42b6f8999a"
      },
      "source": [
        "y_pred = ann.predict(X_test)\n",
        "y_pred = (y_pred > 0.5)\n",
        "print(np.concatenate((y_pred.reshape(len(y_pred),1), y_test.reshape(len(y_test),1)),1))"
      ],
      "execution_count": 40,
      "outputs": [
        {
          "output_type": "stream",
          "text": [
            "[[0. 0.]\n",
            " [0. 0.]\n",
            " [0. 0.]\n",
            " ...\n",
            " [0. 0.]\n",
            " [0. 0.]\n",
            " [0. 0.]]\n"
          ],
          "name": "stdout"
        }
      ]
    },
    {
      "cell_type": "code",
      "metadata": {
        "id": "Hy8vXae9UCk-",
        "colab_type": "code",
        "colab": {
          "base_uri": "https://localhost:8080/",
          "height": 69
        },
        "outputId": "db4e27dd-7656-4205-8d9d-32d1dea6e04a"
      },
      "source": [
        "from sklearn.metrics import confusion_matrix, accuracy_score\n",
        "cm = confusion_matrix(y_test, y_pred)\n",
        "print(cm)\n",
        "accuracy_score(y_test, y_pred)"
      ],
      "execution_count": 42,
      "outputs": [
        {
          "output_type": "stream",
          "text": [
            "[[15418    14]\n",
            " [    4    32]]\n"
          ],
          "name": "stdout"
        },
        {
          "output_type": "execute_result",
          "data": {
            "text/plain": [
              "0.9988363072148952"
            ]
          },
          "metadata": {
            "tags": []
          },
          "execution_count": 42
        }
      ]
    },
    {
      "cell_type": "code",
      "metadata": {
        "id": "DXXriUjdVIS-",
        "colab_type": "code",
        "colab": {}
      },
      "source": [
        ""
      ],
      "execution_count": null,
      "outputs": []
    }
  ]
}